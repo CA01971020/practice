{
 "cells": [
  {
   "cell_type": "code",
   "execution_count": 2,
   "metadata": {},
   "outputs": [
    {
     "name": "stdout",
     "output_type": "stream",
     "text": [
      "3200\n"
     ]
    }
   ],
   "source": [
    "# すーさん問題\n",
    "my_name = \"太郎\"\n",
    "my_balance = 2000\n",
    "depo = -700\n",
    "creat = (my_name, my_balance)\n",
    "my_account = creat\n",
    "\n",
    "while my_balance <= 3000:\n",
    "    my_balance -= depo  # depoが負の値なので加算される\n",
    "\n",
    "my_balance -= 200  # 200を引く\n",
    "\n",
    "print(my_balance)"
   ]
  }
 ],
 "metadata": {
  "kernelspec": {
   "display_name": "3.11.9",
   "language": "python",
   "name": "python3"
  },
  "language_info": {
   "codemirror_mode": {
    "name": "ipython",
    "version": 3
   },
   "file_extension": ".py",
   "mimetype": "text/x-python",
   "name": "python",
   "nbconvert_exporter": "python",
   "pygments_lexer": "ipython3",
   "version": "3.11.9"
  }
 },
 "nbformat": 4,
 "nbformat_minor": 2
}
